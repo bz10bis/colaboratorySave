{
  "nbformat": 4,
  "nbformat_minor": 0,
  "metadata": {
    "colab": {
      "name": "AutoEncoder.ipynb",
      "version": "0.3.2",
      "provenance": [],
      "collapsed_sections": []
    },
    "kernelspec": {
      "name": "python3",
      "display_name": "Python 3"
    },
    "accelerator": "GPU"
  },
  "cells": [
    {
      "cell_type": "markdown",
      "metadata": {
        "id": "view-in-github",
        "colab_type": "text"
      },
      "source": [
        "[View in Colaboratory](https://colab.research.google.com/github/bz10bis/colaboratorySave/blob/master/AutoEncoder.ipynb)"
      ]
    },
    {
      "metadata": {
        "id": "HFnKnYLv5s3o",
        "colab_type": "text"
      },
      "cell_type": "markdown",
      "source": [
        "# Variables"
      ]
    },
    {
      "metadata": {
        "id": "OqReEmR45JJL",
        "colab_type": "code",
        "colab": {}
      },
      "cell_type": "code",
      "source": [
        "#@title Remplir toutes les valeurs { form-width: \"600px\" }\n",
        "encoding_dim = 16 #@param {type:\"slider\", min:0, max:784, step:1}\n",
        "input_dim = 784 #@param {type:\"integer\"}\n",
        "model_optimizer = \"adam\" #@param [\"adam\", \"sgd\", \"adadelta\"]\n",
        "encoded_activation = \"relu\" #@param [\"relu\", \"sigmoid\", \"tanh\"]\n",
        "decoded_activation = \"sigmoid\" #@param [\"sigmoid\", \"relu\", \"tanh\"]\n",
        "nbr_epochs = 100 #@param {type:\"integer\"}\n",
        "loss_function = \"binary_crossentropy\" #@param [\"binary_crossentropy\", \"mse\"]\n",
        "batchsize = 256\n"
      ],
      "execution_count": 0,
      "outputs": []
    },
    {
      "metadata": {
        "id": "-lSrSr175cZB",
        "colab_type": "code",
        "colab": {}
      },
      "cell_type": "code",
      "source": [
        "from keras.layers import Input, Dense\n",
        "from keras.models import Model\n",
        "from keras.callbacks import Callback, EarlyStopping\n",
        "from IPython.display import clear_output\n",
        "\n",
        "import matplotlib.pyplot as plt\n",
        "import time"
      ],
      "execution_count": 0,
      "outputs": []
    },
    {
      "metadata": {
        "id": "OtWMjiVj7-AI",
        "colab_type": "text"
      },
      "cell_type": "markdown",
      "source": [
        "# Models"
      ]
    },
    {
      "metadata": {
        "id": "48VXlObNAO6p",
        "colab_type": "text"
      },
      "cell_type": "markdown",
      "source": [
        "## Callbacks"
      ]
    },
    {
      "metadata": {
        "id": "RPN52s5d9Nkq",
        "colab_type": "code",
        "colab": {}
      },
      "cell_type": "code",
      "source": [
        "class PlotModelLosses(Callback):\n",
        "  def on_train_begin(self, logs={}):\n",
        "    self.i = 0\n",
        "    self.x = []\n",
        "    self.losses = []\n",
        "    self.val_losses = []\n",
        "    self.fig = plt.figure()\n",
        "    self.logs = []\n",
        "    \n",
        "  def on_epoch_end(self, epoch, logs={}):\n",
        "    self.logs.append(logs)\n",
        "    self.x.append(self.i)\n",
        "    self.losses.append(logs.get('loss'))\n",
        "    self.val_losses.append(logs.get('val_loss'))\n",
        "    self.i += 1\n",
        "    clear_output(wait=True)\n",
        "    plt.plot(self.x, self.losses, label=\"loss\")\n",
        "    plt.plot(self.x, self.val_losses, label=\"val_loss\")\n",
        "    plt.legend()\n",
        "    plt.title(\"Epochs: {}   Val_loss: {}\".format(self.x[-1], round(self.losses[-1], 4)))\n",
        "    plt.show();\n",
        "        \n",
        "pltL = PlotModelLosses()\n",
        "\n",
        "early_stop = EarlyStopping(monitor='val_loss',\n",
        "                           min_delta=0,\n",
        "                           patience=3,\n",
        "                           verbose=0,\n",
        "                           mode='auto')"
      ],
      "execution_count": 0,
      "outputs": []
    },
    {
      "metadata": {
        "id": "OWNaw8GP69RF",
        "colab_type": "text"
      },
      "cell_type": "markdown",
      "source": [
        "## Autoencoder Model"
      ]
    },
    {
      "metadata": {
        "id": "cExgva1m6WmO",
        "colab_type": "code",
        "colab": {
          "base_uri": "https://localhost:8080/",
          "height": 238
        },
        "outputId": "f348b6d8-3a03-4b47-e976-d0b45fa675b0"
      },
      "cell_type": "code",
      "source": [
        "input_img = Input(shape=(input_dim,))\n",
        "encoded = Dense(encoding_dim, activation=encoded_activation)(input_img)\n",
        "decoded = Dense(input_dim, activation=decoded_activation)(encoded)\n",
        "autoencoder = Model(input_img, decoded)\n",
        "autoencoder.summary()"
      ],
      "execution_count": 144,
      "outputs": [
        {
          "output_type": "stream",
          "text": [
            "_________________________________________________________________\n",
            "Layer (type)                 Output Shape              Param #   \n",
            "=================================================================\n",
            "input_23 (InputLayer)        (None, 784)               0         \n",
            "_________________________________________________________________\n",
            "dense_23 (Dense)             (None, 64)                50240     \n",
            "_________________________________________________________________\n",
            "dense_24 (Dense)             (None, 784)               50960     \n",
            "=================================================================\n",
            "Total params: 101,200\n",
            "Trainable params: 101,200\n",
            "Non-trainable params: 0\n",
            "_________________________________________________________________\n"
          ],
          "name": "stdout"
        }
      ]
    },
    {
      "metadata": {
        "id": "dddyuecN7EE_",
        "colab_type": "text"
      },
      "cell_type": "markdown",
      "source": [
        "## Encoder model"
      ]
    },
    {
      "metadata": {
        "id": "4hEJHoWU6zNB",
        "colab_type": "code",
        "colab": {}
      },
      "cell_type": "code",
      "source": [
        "encoder = Model(input_img, encoded)"
      ],
      "execution_count": 0,
      "outputs": []
    },
    {
      "metadata": {
        "id": "U7LhVezl7IP3",
        "colab_type": "text"
      },
      "cell_type": "markdown",
      "source": [
        "## Decoder Model"
      ]
    },
    {
      "metadata": {
        "id": "h3O1Z80A7J-b",
        "colab_type": "code",
        "colab": {}
      },
      "cell_type": "code",
      "source": [
        "encoded_input = Input(shape=(encoding_dim,))\n",
        "decoder_layer = autoencoder.layers[-1]\n",
        "decoder = Model(encoded_input, decoder_layer(encoded_input))"
      ],
      "execution_count": 0,
      "outputs": []
    },
    {
      "metadata": {
        "id": "wAnoL3ez7k7h",
        "colab_type": "text"
      },
      "cell_type": "markdown",
      "source": [
        "# Training"
      ]
    },
    {
      "metadata": {
        "id": "dDsqJXiB7iuQ",
        "colab_type": "code",
        "colab": {}
      },
      "cell_type": "code",
      "source": [
        "autoencoder.compile(optimizer=model_optimizer, loss=loss_function)"
      ],
      "execution_count": 0,
      "outputs": []
    },
    {
      "metadata": {
        "id": "1UP2AZjO8EP0",
        "colab_type": "text"
      },
      "cell_type": "markdown",
      "source": [
        "## Data prep"
      ]
    },
    {
      "metadata": {
        "id": "WLHr9yqR7wVE",
        "colab_type": "code",
        "colab": {}
      },
      "cell_type": "code",
      "source": [
        "from keras.datasets import mnist\n",
        "import numpy as np\n",
        "(x_train, _), (x_test, _) = mnist.load_data()"
      ],
      "execution_count": 0,
      "outputs": []
    },
    {
      "metadata": {
        "id": "J0i1I_HI7yuu",
        "colab_type": "code",
        "colab": {
          "base_uri": "https://localhost:8080/",
          "height": 51
        },
        "outputId": "d0f14082-3a8c-43a0-cae1-aea42542fb42"
      },
      "cell_type": "code",
      "source": [
        "x_train = x_train.astype('float32') / 255.\n",
        "x_test = x_test.astype('float32') / 255.\n",
        "x_train = x_train.reshape((len(x_train), np.prod(x_train.shape[1:])))\n",
        "x_test = x_test.reshape((len(x_test), np.prod(x_test.shape[1:])))\n",
        "print(x_train.shape)\n",
        "print(x_test.shape)"
      ],
      "execution_count": 149,
      "outputs": [
        {
          "output_type": "stream",
          "text": [
            "(60000, 784)\n",
            "(10000, 784)\n"
          ],
          "name": "stdout"
        }
      ]
    },
    {
      "metadata": {
        "id": "Enq230PL8Gcd",
        "colab_type": "text"
      },
      "cell_type": "markdown",
      "source": [
        "## Fitting"
      ]
    },
    {
      "metadata": {
        "id": "bygECZwB71VZ",
        "colab_type": "code",
        "colab": {
          "base_uri": "https://localhost:8080/",
          "height": 379
        },
        "collapsed": true,
        "outputId": "eee23bfc-6d38-4e2f-f395-26bec22b49cc"
      },
      "cell_type": "code",
      "source": [
        "start_time = time.time()\n",
        "autoencoder.fit(x_train, x_train,\n",
        "                epochs=nbr_epochs,\n",
        "                batch_size=256,\n",
        "                shuffle=True,\n",
        "                validation_data=(x_test, x_test),\n",
        "                verbose=0,\n",
        "                callbacks=[pltL,early_stop])\n",
        "elapse_time = time.time() - start_time\n",
        "print(\"Time: {} s\".format(round(time.time() - start_time, 2)))"
      ],
      "execution_count": 150,
      "outputs": [
        {
          "output_type": "display_data",
          "data": {
            "image/png": "[encoded data removed]",
            "text/plain": [
              "<matplotlib.figure.Figure at 0x7f359f0dc588>"
            ]
          },
          "metadata": {
            "tags": []
          }
        },
        {
          "output_type": "stream",
          "text": [
            "Time: 85.32 s\n"
          ],
          "name": "stdout"
        }
      ]
    },
    {
      "metadata": {
        "id": "7VRyCh4K8ID2",
        "colab_type": "code",
        "colab": {}
      },
      "cell_type": "code",
      "source": [
        "encoded_imgs = encoder.predict(x_test)\n",
        "decoded_imgs = decoder.predict(encoded_imgs)"
      ],
      "execution_count": 0,
      "outputs": []
    },
    {
      "metadata": {
        "id": "zFErnbo39TzY",
        "colab_type": "code",
        "colab": {
          "base_uri": "https://localhost:8080/",
          "height": 196
        },
        "outputId": "cc7f0f0b-0f74-47eb-ef79-db83000ba9bd"
      },
      "cell_type": "code",
      "source": [
        "import matplotlib.pyplot as plt\n",
        "\n",
        "n = 20  # how many digits we will display\n",
        "plt.figure(figsize=(20, 4))\n",
        "for i in range(n):\n",
        "    # display original\n",
        "    ax = plt.subplot(2, n, i + 1)\n",
        "    plt.imshow(x_test[i].reshape(28, 28))\n",
        "    plt.gray()\n",
        "    ax.get_xaxis().set_visible(False)\n",
        "    ax.get_yaxis().set_visible(False)\n",
        "\n",
        "    # display reconstruction\n",
        "    ax = plt.subplot(2, n, i + 1 + n)\n",
        "    plt.imshow(decoded_imgs[i].reshape(28, 28))\n",
        "    plt.gray()\n",
        "    ax.get_xaxis().set_visible(False)\n",
        "    ax.get_yaxis().set_visible(False)\n",
        "plt.show()"
      ],
      "execution_count": 152,
      "outputs": [
        {
          "output_type": "display_data",
          "data": {
            "image/png": "[encoded data removed]",
            "text/plain": [
              "<matplotlib.figure.Figure at 0x7f359f011160>"
            ]
          },
          "metadata": {
            "tags": []
          }
        }
      ]
    },
    {
      "metadata": {
        "id": "L2Lt28N89ndK",
        "colab_type": "code",
        "colab": {
          "base_uri": "https://localhost:8080/",
          "height": 34
        },
        "outputId": "f30c5ea7-951f-4ff6-e5e1-9fe065bf150d"
      },
      "cell_type": "code",
      "source": [
        "print(encoded_imgs.shape)"
      ],
      "execution_count": 153,
      "outputs": [
        {
          "output_type": "stream",
          "text": [
            "(10000, 64)\n"
          ],
          "name": "stdout"
        }
      ]
    },
    {
      "metadata": {
        "id": "WHMCP-Ah_cad",
        "colab_type": "code",
        "colab": {}
      },
      "cell_type": "code",
      "source": [
        ""
      ],
      "execution_count": 0,
      "outputs": []
    }
  ]
}