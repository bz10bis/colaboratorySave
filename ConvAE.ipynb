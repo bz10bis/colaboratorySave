{
  "nbformat": 4,
  "nbformat_minor": 0,
  "metadata": {
    "colab": {
      "name": "ConvAE.ipynb",
      "version": "0.3.2",
      "provenance": [],
      "collapsed_sections": []
    },
    "kernelspec": {
      "name": "python3",
      "display_name": "Python 3"
    },
    "accelerator": "GPU"
  },
  "cells": [
    {
      "cell_type": "markdown",
      "metadata": {
        "id": "view-in-github",
        "colab_type": "text"
      },
      "source": [
        "[View in Colaboratory](https://colab.research.google.com/github/bz10bis/colaboratorySave/blob/master/ConvAE.ipynb)"
      ]
    },
    {
      "metadata": {
        "id": "LNu0tM_lNu0g",
        "colab_type": "code",
        "colab": {
          "base_uri": "https://localhost:8080/",
          "height": 34
        },
        "outputId": "d906e744-09c7-4667-db53-d56dcfcd3baf"
      },
      "cell_type": "code",
      "source": [
        "from keras.layers import Input, Dense, Conv2D, MaxPooling2D, UpSampling2D\n",
        "from keras.models import Model\n",
        "from keras import backend as K\n",
        "\n",
        "input_img = Input(shape=(28, 28, 1)) \n",
        "\n",
        "x = Conv2D(16, (3, 3), activation='relu', padding='same')(input_img)\n",
        "x = MaxPooling2D((2, 2), padding='same')(x)\n",
        "x = Conv2D(8, (3, 3), activation='relu', padding='same')(x)\n",
        "x = MaxPooling2D((2, 2), padding='same')(x)\n",
        "x = Conv2D(8, (3, 3), activation='relu', padding='same')(x)\n",
        "encoded = MaxPooling2D((2, 2), padding='same')(x)\n",
        "\n",
        "x = Conv2D(8, (3, 3), activation='relu', padding='same')(encoded)\n",
        "x = UpSampling2D((2, 2))(x)\n",
        "x = Conv2D(8, (3, 3), activation='relu', padding='same')(x)\n",
        "x = UpSampling2D((2, 2))(x)\n",
        "x = Conv2D(16, (3, 3), activation='relu')(x)\n",
        "x = UpSampling2D((2, 2))(x)\n",
        "decoded = Conv2D(1, (3, 3), activation='sigmoid', padding='same')(x)\n",
        "\n",
        "autoencoder = Model(input_img, decoded)\n",
        "autoencoder.compile(optimizer='adam', loss='binary_crossentropy')"
      ],
      "execution_count": 1,
      "outputs": [
        {
          "output_type": "stream",
          "text": [
            "Using TensorFlow backend.\n"
          ],
          "name": "stderr"
        }
      ]
    },
    {
      "metadata": {
        "id": "odR_W02ON0T6",
        "colab_type": "code",
        "colab": {
          "base_uri": "https://localhost:8080/",
          "height": 51
        },
        "outputId": "3aab53bd-4322-4d10-c9cf-b8bedc63c14d"
      },
      "cell_type": "code",
      "source": [
        "from keras.datasets import mnist\n",
        "import numpy as np\n",
        "\n",
        "(x_train, _), (x_test, _) = mnist.load_data()\n",
        "\n",
        "x_train = x_train.astype('float32') / 255.\n",
        "x_test = x_test.astype('float32') / 255.\n",
        "x_train = np.reshape(x_train, (len(x_train), 28, 28, 1))  # adapt this if using `channels_first` image data format\n",
        "x_test = np.reshape(x_test, (len(x_test), 28, 28, 1))  # adapt this if using `channels_first` image data format"
      ],
      "execution_count": 2,
      "outputs": [
        {
          "output_type": "stream",
          "text": [
            "Downloading data from https://s3.amazonaws.com/img-datasets/mnist.npz\n",
            "11493376/11490434 [==============================] - 1s 0us/step\n"
          ],
          "name": "stdout"
        }
      ]
    },
    {
      "metadata": {
        "id": "9MTKkTB3N9IC",
        "colab_type": "code",
        "colab": {
          "base_uri": "https://localhost:8080/",
          "height": 1771
        },
        "outputId": "b610bbae-1449-4707-a14f-ec4995601e74"
      },
      "cell_type": "code",
      "source": [
        "from keras.callbacks import TensorBoard\n",
        "\n",
        "autoencoder.fit(x_train, x_train,\n",
        "                epochs=50,\n",
        "                batch_size=128,\n",
        "                shuffle=True,\n",
        "                validation_data=(x_test, x_test),\n",
        "                callbacks=[TensorBoard(log_dir='/tmp/autoencoder')])"
      ],
      "execution_count": 3,
      "outputs": [
        {
          "output_type": "stream",
          "text": [
            "Train on 60000 samples, validate on 10000 samples\n",
            "Epoch 1/50\n",
            "60000/60000 [==============================] - 11s 178us/step - loss: 0.2146 - val_loss: 0.1712\n",
            "Epoch 2/50\n",
            "60000/60000 [==============================] - 9s 154us/step - loss: 0.1579 - val_loss: 0.1437\n",
            "Epoch 3/50\n",
            "46464/60000 [======================>.......] - ETA: 1s - loss: 0.1430"
          ],
          "name": "stdout"
        },
        {
          "output_type": "stream",
          "text": [
            "60000/60000 [==============================] - 9s 151us/step - loss: 0.1418 - val_loss: 0.1383\n",
            "Epoch 4/50\n",
            "60000/60000 [==============================] - 9s 147us/step - loss: 0.1330 - val_loss: 0.1276\n",
            "Epoch 5/50\n",
            "60000/60000 [==============================] - 9s 147us/step - loss: 0.1272 - val_loss: 0.1270\n",
            "Epoch 6/50\n",
            "25216/60000 [===========>..................] - ETA: 4s - loss: 0.1239"
          ],
          "name": "stdout"
        },
        {
          "output_type": "stream",
          "text": [
            "60000/60000 [==============================] - 9s 145us/step - loss: 0.1237 - val_loss: 0.1209\n",
            "Epoch 7/50\n",
            "60000/60000 [==============================] - 9s 145us/step - loss: 0.1211 - val_loss: 0.1168\n",
            "Epoch 8/50\n",
            "60000/60000 [==============================] - 9s 145us/step - loss: 0.1184 - val_loss: 0.1210\n",
            "Epoch 9/50\n",
            "22144/60000 [==========>...................] - ETA: 5s - loss: 0.1172"
          ],
          "name": "stdout"
        },
        {
          "output_type": "stream",
          "text": [
            "60000/60000 [==============================] - 9s 145us/step - loss: 0.1167 - val_loss: 0.1181\n",
            "Epoch 10/50\n",
            "60000/60000 [==============================] - 9s 146us/step - loss: 0.1153 - val_loss: 0.1140\n",
            "Epoch 11/50\n",
            "60000/60000 [==============================] - 9s 145us/step - loss: 0.1141 - val_loss: 0.1134\n",
            "Epoch 12/50\n",
            "20096/60000 [=========>....................] - ETA: 5s - loss: 0.1128"
          ],
          "name": "stdout"
        },
        {
          "output_type": "stream",
          "text": [
            "60000/60000 [==============================] - 9s 144us/step - loss: 0.1128 - val_loss: 0.1109\n",
            "Epoch 13/50\n",
            "60000/60000 [==============================] - 9s 146us/step - loss: 0.1118 - val_loss: 0.1135\n",
            "Epoch 14/50\n",
            "60000/60000 [==============================] - 9s 144us/step - loss: 0.1107 - val_loss: 0.1084\n",
            "Epoch 15/50\n",
            "20096/60000 [=========>....................] - ETA: 5s - loss: 0.1103"
          ],
          "name": "stdout"
        },
        {
          "output_type": "stream",
          "text": [
            "60000/60000 [==============================] - 9s 146us/step - loss: 0.1099 - val_loss: 0.1080\n",
            "Epoch 16/50\n",
            "60000/60000 [==============================] - 9s 146us/step - loss: 0.1091 - val_loss: 0.1102\n",
            "Epoch 17/50\n",
            "60000/60000 [==============================] - 9s 147us/step - loss: 0.1088 - val_loss: 0.1054\n",
            "Epoch 18/50\n",
            "20096/60000 [=========>....................] - ETA: 5s - loss: 0.1080"
          ],
          "name": "stdout"
        },
        {
          "output_type": "stream",
          "text": [
            "60000/60000 [==============================] - 9s 145us/step - loss: 0.1080 - val_loss: 0.1079\n",
            "Epoch 19/50\n",
            "60000/60000 [==============================] - 9s 146us/step - loss: 0.1078 - val_loss: 0.1072\n",
            "Epoch 20/50\n",
            "60000/60000 [==============================] - 9s 146us/step - loss: 0.1074 - val_loss: 0.1097\n",
            "Epoch 21/50\n",
            "20096/60000 [=========>....................] - ETA: 5s - loss: 0.1068"
          ],
          "name": "stdout"
        },
        {
          "output_type": "stream",
          "text": [
            "60000/60000 [==============================] - 9s 147us/step - loss: 0.1070 - val_loss: 0.1032\n",
            "Epoch 22/50\n",
            "60000/60000 [==============================] - 9s 146us/step - loss: 0.1063 - val_loss: 0.1023\n",
            "Epoch 23/50\n",
            "60000/60000 [==============================] - 9s 145us/step - loss: 0.1059 - val_loss: 0.1036\n",
            "Epoch 24/50\n",
            "20096/60000 [=========>....................] - ETA: 5s - loss: 0.1054"
          ],
          "name": "stdout"
        },
        {
          "output_type": "stream",
          "text": [
            "60000/60000 [==============================] - 9s 145us/step - loss: 0.1054 - val_loss: 0.1043\n",
            "Epoch 25/50\n",
            "60000/60000 [==============================] - 9s 145us/step - loss: 0.1053 - val_loss: 0.1038\n",
            "Epoch 26/50\n",
            "60000/60000 [==============================] - 9s 147us/step - loss: 0.1049 - val_loss: 0.1029\n",
            "Epoch 27/50\n",
            "20096/60000 [=========>....................] - ETA: 5s - loss: 0.1049"
          ],
          "name": "stdout"
        },
        {
          "output_type": "stream",
          "text": [
            "60000/60000 [==============================] - 9s 145us/step - loss: 0.1048 - val_loss: 0.1061\n",
            "Epoch 28/50\n",
            "60000/60000 [==============================] - 9s 145us/step - loss: 0.1043 - val_loss: 0.1013\n",
            "Epoch 29/50\n",
            "60000/60000 [==============================] - 9s 146us/step - loss: 0.1041 - val_loss: 0.1020\n",
            "Epoch 30/50\n",
            "20480/60000 [=========>....................] - ETA: 5s - loss: 0.1040"
          ],
          "name": "stdout"
        },
        {
          "output_type": "stream",
          "text": [
            "60000/60000 [==============================] - 9s 144us/step - loss: 0.1039 - val_loss: 0.1024\n",
            "Epoch 31/50\n",
            "60000/60000 [==============================] - 9s 144us/step - loss: 0.1035 - val_loss: 0.1015\n",
            "Epoch 32/50\n",
            "60000/60000 [==============================] - 9s 145us/step - loss: 0.1034 - val_loss: 0.1032\n",
            "Epoch 33/50\n",
            "20992/60000 [=========>....................] - ETA: 5s - loss: 0.1027"
          ],
          "name": "stdout"
        },
        {
          "output_type": "stream",
          "text": [
            "60000/60000 [==============================] - 9s 145us/step - loss: 0.1027 - val_loss: 0.1006\n",
            "Epoch 34/50\n",
            "60000/60000 [==============================] - 9s 145us/step - loss: 0.1026 - val_loss: 0.1003\n",
            "Epoch 35/50\n",
            "60000/60000 [==============================] - 9s 146us/step - loss: 0.1024 - val_loss: 0.0992\n",
            "Epoch 36/50\n",
            "20864/60000 [=========>....................] - ETA: 5s - loss: 0.1028"
          ],
          "name": "stdout"
        },
        {
          "output_type": "stream",
          "text": [
            "60000/60000 [==============================] - 9s 142us/step - loss: 0.1026 - val_loss: 0.0998\n",
            "Epoch 37/50\n",
            "60000/60000 [==============================] - 8s 139us/step - loss: 0.1021 - val_loss: 0.1003\n",
            "Epoch 38/50\n",
            "60000/60000 [==============================] - 9s 144us/step - loss: 0.1020 - val_loss: 0.1065\n",
            "Epoch 39/50\n",
            "24320/60000 [===========>..................] - ETA: 4s - loss: 0.1017"
          ],
          "name": "stdout"
        },
        {
          "output_type": "stream",
          "text": [
            "60000/60000 [==============================] - 9s 144us/step - loss: 0.1017 - val_loss: 0.1024\n",
            "Epoch 40/50\n",
            "60000/60000 [==============================] - 9s 144us/step - loss: 0.1015 - val_loss: 0.0995\n",
            "Epoch 41/50\n",
            "60000/60000 [==============================] - 9s 144us/step - loss: 0.1015 - val_loss: 0.0988\n",
            "Epoch 42/50\n",
            "22144/60000 [==========>...................] - ETA: 5s - loss: 0.1017"
          ],
          "name": "stdout"
        },
        {
          "output_type": "stream",
          "text": [
            "60000/60000 [==============================] - 9s 147us/step - loss: 0.1014 - val_loss: 0.1004\n",
            "Epoch 43/50\n",
            "60000/60000 [==============================] - 9s 144us/step - loss: 0.1015 - val_loss: 0.1017\n",
            "Epoch 44/50\n",
            "60000/60000 [==============================] - 9s 144us/step - loss: 0.1012 - val_loss: 0.0999\n",
            "Epoch 45/50\n",
            "21376/60000 [=========>....................] - ETA: 5s - loss: 0.1005"
          ],
          "name": "stdout"
        },
        {
          "output_type": "stream",
          "text": [
            "60000/60000 [==============================] - 9s 145us/step - loss: 0.1008 - val_loss: 0.1002\n",
            "Epoch 46/50\n",
            "60000/60000 [==============================] - 9s 146us/step - loss: 0.1005 - val_loss: 0.1017\n",
            "Epoch 47/50\n",
            "60000/60000 [==============================] - 9s 144us/step - loss: 0.1003 - val_loss: 0.0997\n",
            "Epoch 48/50\n",
            "21888/60000 [=========>....................] - ETA: 5s - loss: 0.1005"
          ],
          "name": "stdout"
        },
        {
          "output_type": "stream",
          "text": [
            "60000/60000 [==============================] - 9s 142us/step - loss: 0.1003 - val_loss: 0.0997\n",
            "Epoch 49/50\n",
            "60000/60000 [==============================] - 9s 143us/step - loss: 0.1002 - val_loss: 0.0976\n",
            "Epoch 50/50\n",
            "60000/60000 [==============================] - 9s 142us/step - loss: 0.1001 - val_loss: 0.0986\n"
          ],
          "name": "stdout"
        },
        {
          "output_type": "execute_result",
          "data": {
            "text/plain": [
              "<keras.callbacks.History at 0x7f63fd089a58>"
            ]
          },
          "metadata": {
            "tags": []
          },
          "execution_count": 3
        }
      ]
    },
    {
      "metadata": {
        "id": "QyAqPGmWOKci",
        "colab_type": "code",
        "colab": {
          "base_uri": "https://localhost:8080/",
          "height": 196
        },
        "outputId": "161f09c1-003f-4e0c-989c-4bca1b4d1240"
      },
      "cell_type": "code",
      "source": [
        "import matplotlib.pyplot as plt\n",
        "decoded_imgs = autoencoder.predict(x_test)\n",
        "\n",
        "n = 20\n",
        "plt.figure(figsize=(20, 4))\n",
        "for i in range(n):\n",
        "    ax = plt.subplot(2, n, i+1)\n",
        "    plt.imshow(x_test[i].reshape(28, 28))\n",
        "    plt.gray()\n",
        "    ax.get_xaxis().set_visible(False)\n",
        "    ax.get_yaxis().set_visible(False)\n",
        "    ax = plt.subplot(2, n, i + n+1)\n",
        "    plt.imshow(decoded_imgs[i].reshape(28, 28))\n",
        "    plt.gray()\n",
        "    ax.get_xaxis().set_visible(False)\n",
        "    ax.get_yaxis().set_visible(False)\n",
        "plt.show()"
      ],
      "execution_count": 8,
      "outputs": [
        {
          "output_type": "display_data",
          "data": {
            "image/png": "[encoded data removed]",
            "text/plain": [
              "<matplotlib.figure.Figure at 0x7f638a2f2eb8>"
            ]
          },
          "metadata": {
            "tags": []
          }
        }
      ]
    },
    {
      "metadata": {
        "id": "_k900HZbOuTr",
        "colab_type": "code",
        "colab": {}
      },
      "cell_type": "code",
      "source": [
        ""
      ],
      "execution_count": 0,
      "outputs": []
    }
  ]
}